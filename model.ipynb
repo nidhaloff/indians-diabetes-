{
  "nbformat": 4,
  "nbformat_minor": 0,
  "metadata": {
    "colab": {
      "name": "model.ipynb",
      "provenance": [],
      "include_colab_link": true
    },
    "kernelspec": {
      "name": "python3",
      "display_name": "Python 3"
    },
    "accelerator": "GPU"
  },
  "cells": [
    {
      "cell_type": "markdown",
      "metadata": {
        "id": "view-in-github",
        "colab_type": "text"
      },
      "source": [
        "<a href=\"https://colab.research.google.com/github/nidhaloff/indians-diabetes-/blob/master/model.ipynb\" target=\"_parent\"><img src=\"https://colab.research.google.com/assets/colab-badge.svg\" alt=\"Open In Colab\"/></a>"
      ]
    },
    {
      "cell_type": "code",
      "metadata": {
        "id": "M3QyScbO-HVI",
        "colab_type": "code",
        "outputId": "5a09f826-827d-45fc-aa1f-fd8e36a275c3",
        "colab": {
          "base_uri": "https://localhost:8080/",
          "height": 34
        }
      },
      "source": [
        "import torch\n",
        "import tensorflow as tf\n",
        "import keras\n",
        "from keras import backend as K\n",
        "import numpy as np\n",
        "import pandas as pd\n",
        "import matplotlib.pyplot as plt\n",
        "from keras.models import Sequential\n",
        "from keras.layers import Dense, Activation, Embedding, Flatten, LeakyReLU, BatchNormalization, Dropout\n",
        "from keras.activations import relu, sigmoid\n",
        "from sklearn.preprocessing import StandardScaler\n",
        "\n",
        "# ignore deprication warnings\n",
        "from tensorflow.python.util import deprecation\n",
        "deprecation._PRINT_DEPRECATION_WARNINGS = False\n",
        "\n",
        "# set device to gpu\n",
        "device = 'cuda' if torch.cuda.is_available() else 'cpu'\n",
        "print(\"device => \", device)\n",
        "\n",
        "%matplotlib inline\n",
        "\n",
        "# run keras model on google GPU\n",
        "K.tensorflow_backend._get_available_gpus()\n",
        "sess = tf.Session(config=tf.ConfigProto(log_device_placement=True))\n",
        "import warnings\n"
      ],
      "execution_count": 81,
      "outputs": [
        {
          "output_type": "stream",
          "text": [
            "device =>  cuda\n"
          ],
          "name": "stdout"
        }
      ]
    },
    {
      "cell_type": "code",
      "metadata": {
        "id": "5JB7aVGc_LtG",
        "colab_type": "code",
        "colab": {
          "base_uri": "https://localhost:8080/",
          "height": 340
        },
        "outputId": "732aaa62-8989-4b07-8402-c28d089f6c00"
      },
      "source": [
        "dataset = pd.read_csv('/content/diabet_dataset.txt')\n",
        "X = dataset.iloc[:, 0:-1]\n",
        "y = dataset.iloc[:, -1]\n",
        "print(X.shape, y.shape)\n",
        "print(dataset.head(5))\n",
        "print(X.head(5))\n",
        "print(y.head(5))"
      ],
      "execution_count": 82,
      "outputs": [
        {
          "output_type": "stream",
          "text": [
            "(767, 8) (767,)\n",
            "   6  148  72  35    0  33.6  0.627  50  1\n",
            "0  1   85  66  29    0  26.6  0.351  31  0\n",
            "1  8  183  64   0    0  23.3  0.672  32  1\n",
            "2  1   89  66  23   94  28.1  0.167  21  0\n",
            "3  0  137  40  35  168  43.1  2.288  33  1\n",
            "4  5  116  74   0    0  25.6  0.201  30  0\n",
            "   6  148  72  35    0  33.6  0.627  50\n",
            "0  1   85  66  29    0  26.6  0.351  31\n",
            "1  8  183  64   0    0  23.3  0.672  32\n",
            "2  1   89  66  23   94  28.1  0.167  21\n",
            "3  0  137  40  35  168  43.1  2.288  33\n",
            "4  5  116  74   0    0  25.6  0.201  30\n",
            "0    0\n",
            "1    1\n",
            "2    0\n",
            "3    1\n",
            "4    0\n",
            "Name: 1, dtype: int64\n"
          ],
          "name": "stdout"
        }
      ]
    },
    {
      "cell_type": "code",
      "metadata": {
        "id": "VTi8g0QfwZym",
        "colab_type": "code",
        "colab": {
          "base_uri": "https://localhost:8080/",
          "height": 34
        },
        "outputId": "50c0333e-694b-458c-9fe2-6b688c0af1a5"
      },
      "source": [
        "from sklearn.model_selection import train_test_split\n",
        "\n",
        "X_train, X_test, y_train, y_test = train_test_split(X, y, test_size=0.2, random_state=0)\n",
        "\n",
        "sc = StandardScaler()\n",
        "X_train = sc.fit_transform(X_train)\n",
        "X_test = sc.fit_transform(X_test)\n",
        "\n",
        "y_train, y_test = y_train.to_numpy(), y_test.to_numpy()\n",
        "print(X_train.shape, y_test.shape)"
      ],
      "execution_count": 83,
      "outputs": [
        {
          "output_type": "stream",
          "text": [
            "(613, 8) (154,)\n"
          ],
          "name": "stdout"
        }
      ]
    },
    {
      "cell_type": "code",
      "metadata": {
        "id": "P-ERQFLQxGzN",
        "colab_type": "code",
        "colab": {}
      },
      "source": [
        "from keras.wrappers.scikit_learn import KerasClassifier\n",
        "from sklearn.model_selection import GridSearchCV"
      ],
      "execution_count": 0,
      "outputs": []
    },
    {
      "cell_type": "code",
      "metadata": {
        "id": "gG5sS759xQSP",
        "colab_type": "code",
        "colab": {}
      },
      "source": [
        "def create_model(layers, activation):\n",
        "  model = Sequential()\n",
        "  for i, nodes in enumerate(layers):\n",
        "    if i ==0:\n",
        "      model.add(Dense(nodes, input_dim=X_train.shape[1]))\n",
        "      model.add(Activation(activation))\n",
        "    else:\n",
        "      model.add(Dense(nodes))\n",
        "      model.add(Activation(activation))\n",
        "  \n",
        "  model.add(Dense(1))    # no activation beyond this point\n",
        "  \n",
        "  model.compile(optimizer='adam', loss='binary_crossentropy', metrics=['accuracy'])\n",
        "  return model\n",
        "\n",
        "model = KerasClassifier(build_fn=create_model, verbose=0)"
      ],
      "execution_count": 0,
      "outputs": []
    },
    {
      "cell_type": "code",
      "metadata": {
        "id": "55dOdMXb50U7",
        "colab_type": "code",
        "colab": {}
      },
      "source": [
        "layers = [ [20], [40, 20], [45, 30, 15]]\n",
        "activations = ['sigmoid', 'relu']\n",
        "\n",
        "param_grid = dict(layers=layers, activation=activations, batch_size=[20, 40, 60], epochs=[20])\n",
        "grid = GridSearchCV(estimator=model, param_grid=param_grid, n_jobs=1)"
      ],
      "execution_count": 0,
      "outputs": []
    },
    {
      "cell_type": "code",
      "metadata": {
        "id": "g-j7vCuuBfs6",
        "colab_type": "code",
        "colab": {
          "base_uri": "https://localhost:8080/",
          "height": 105
        },
        "outputId": "e2fca723-d3a8-4a7a-de2f-3d9c00f971bf"
      },
      "source": [
        "#print(type(X_train), type(y_train))\n",
        "#print(set(y_train.to_numpy()))\n",
        "grid_result = grid.fit(X_train, y_train)"
      ],
      "execution_count": 87,
      "outputs": [
        {
          "output_type": "stream",
          "text": [
            "/usr/local/lib/python3.6/dist-packages/sklearn/model_selection/_split.py:1978: FutureWarning: The default value of cv will change from 3 to 5 in version 0.22. Specify it explicitly to silence this warning.\n",
            "  warnings.warn(CV_WARNING, FutureWarning)\n",
            "/usr/local/lib/python3.6/dist-packages/sklearn/model_selection/_search.py:814: DeprecationWarning: The default of the `iid` parameter will change from True to False in version 0.22 and will be removed in 0.24. This will change numeric results when test-set sizes are unequal.\n",
            "  DeprecationWarning)\n"
          ],
          "name": "stderr"
        }
      ]
    },
    {
      "cell_type": "code",
      "metadata": {
        "id": "OS_NP-cPBpaX",
        "colab_type": "code",
        "colab": {
          "base_uri": "https://localhost:8080/",
          "height": 51
        },
        "outputId": "d6de9265-826b-4d62-cbaf-f8923895f8e8"
      },
      "source": [
        "score, params = [grid_result.best_score_, grid_result.best_params_]\n",
        "\n",
        "print(\"best score: \", score)\n",
        "print(\"best params: \", params)\n",
        "\n"
      ],
      "execution_count": 91,
      "outputs": [
        {
          "output_type": "stream",
          "text": [
            "best score:  0.7406199023151865\n",
            "best params:  {'activation': 'relu', 'batch_size': 40, 'epochs': 20, 'layers': [45, 30, 15]}\n"
          ],
          "name": "stdout"
        }
      ]
    },
    {
      "cell_type": "code",
      "metadata": {
        "id": "nnj8Pbwed03k",
        "colab_type": "code",
        "colab": {
          "base_uri": "https://localhost:8080/",
          "height": 34
        },
        "outputId": "4d801cc8-3503-4b48-ce15-aec4b50c3047"
      },
      "source": [
        "y_pred = grid.predict(X_test)\n",
        "print(y_pred.shape, y_test.shape)"
      ],
      "execution_count": 92,
      "outputs": [
        {
          "output_type": "stream",
          "text": [
            "(154, 1) (154,)\n"
          ],
          "name": "stdout"
        }
      ]
    },
    {
      "cell_type": "code",
      "metadata": {
        "id": "93A1nQXmeIEb",
        "colab_type": "code",
        "colab": {
          "base_uri": "https://localhost:8080/",
          "height": 391
        },
        "outputId": "75c37a79-6b60-42f9-ba76-288bacf48614"
      },
      "source": [
        "print(type(y_pred), type(y_test))\n",
        "print(y_pred[:20])\n",
        "print(y_test[:20])"
      ],
      "execution_count": 93,
      "outputs": [
        {
          "output_type": "stream",
          "text": [
            "<class 'numpy.ndarray'> <class 'numpy.ndarray'>\n",
            "[[0]\n",
            " [0]\n",
            " [0]\n",
            " [0]\n",
            " [0]\n",
            " [0]\n",
            " [0]\n",
            " [0]\n",
            " [0]\n",
            " [0]\n",
            " [0]\n",
            " [0]\n",
            " [0]\n",
            " [0]\n",
            " [0]\n",
            " [0]\n",
            " [0]\n",
            " [0]\n",
            " [0]\n",
            " [0]]\n",
            "[1 0 1 1 0 0 1 0 0 0 0 0 0 0 0 0 0 1 1 1]\n"
          ],
          "name": "stdout"
        }
      ]
    },
    {
      "cell_type": "code",
      "metadata": {
        "id": "JxCDf0zxGf5H",
        "colab_type": "code",
        "colab": {}
      },
      "source": [
        ""
      ],
      "execution_count": 0,
      "outputs": []
    }
  ]
}